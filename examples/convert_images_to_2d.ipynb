{
 "cells": [
  {
   "cell_type": "markdown",
   "metadata": {},
   "source": [
    "# Convert camera images to pixels on a s square grid"
   ]
  },
  {
   "cell_type": "code",
   "execution_count": 1,
   "metadata": {
    "execution": {
     "iopub.execute_input": "2023-01-20T16:31:34.543370Z",
     "iopub.status.busy": "2023-01-20T16:31:34.542935Z",
     "iopub.status.idle": "2023-01-20T16:31:39.013301Z",
     "shell.execute_reply": "2023-01-20T16:31:39.012618Z"
    }
   },
   "outputs": [],
   "source": [
    "from ctapipe.utils import get_dataset_path\n",
    "from ctapipe.visualization import CameraDisplay\n",
    "from ctapipe.instrument import SubarrayDescription\n",
    "from ctapipe.io import EventSource\n",
    "from ctapipe.image.toymodel import Gaussian\n",
    "import matplotlib.pyplot as plt\n",
    "import astropy.units as u"
   ]
  },
  {
   "cell_type": "code",
   "execution_count": 2,
   "metadata": {
    "execution": {
     "iopub.execute_input": "2023-01-20T16:31:39.017495Z",
     "iopub.status.busy": "2023-01-20T16:31:39.016738Z",
     "iopub.status.idle": "2023-01-20T16:31:39.719610Z",
     "shell.execute_reply": "2023-01-20T16:31:39.718812Z"
    }
   },
   "outputs": [],
   "source": [
    "# get the subarray from an example file\n",
    "subarray = SubarrayDescription.read(\"dataset://gamma_prod5.simtel.zst\")"
   ]
  },
  {
   "cell_type": "markdown",
   "metadata": {},
   "source": [
    "## Geometries with square pixels\n",
    "\n",
    "Define a camera geometry and generate a dummy image:"
   ]
  },
  {
   "cell_type": "code",
   "execution_count": 3,
   "metadata": {
    "execution": {
     "iopub.execute_input": "2023-01-20T16:31:39.724634Z",
     "iopub.status.busy": "2023-01-20T16:31:39.723178Z",
     "iopub.status.idle": "2023-01-20T16:31:39.748751Z",
     "shell.execute_reply": "2023-01-20T16:31:39.748189Z"
    }
   },
   "outputs": [],
   "source": [
    "geom = subarray.tel[40].camera.geometry\n",
    "model = Gaussian(\n",
    "    x=0.05 * u.m,\n",
    "    y=0.05 * u.m,\n",
    "    width=0.01 * u.m,\n",
    "    length=0.05 * u.m,\n",
    "    psi=\"30d\",\n",
    ")\n",
    "_, image, _ = model.generate_image(geom, intensity=500, nsb_level_pe=3)"
   ]
  },
  {
   "cell_type": "code",
   "execution_count": 4,
   "metadata": {
    "execution": {
     "iopub.execute_input": "2023-01-20T16:31:39.753280Z",
     "iopub.status.busy": "2023-01-20T16:31:39.752141Z",
     "iopub.status.idle": "2023-01-20T16:31:40.173162Z",
     "shell.execute_reply": "2023-01-20T16:31:40.172598Z"
    }
   },
   "outputs": [
    {
     "data": {
      "text/plain": [
       "<ctapipe.visualization.mpl_camera.CameraDisplay at 0x7efea3537af0>"
      ]
     },
     "execution_count": 4,
     "metadata": {},
     "output_type": "execute_result"
    }
   ],
   "source": [
    "CameraDisplay(geom, image)"
   ]
  },
  {
   "cell_type": "markdown",
   "metadata": {},
   "source": [
    "The `CameraGeometry` has functions to convert the 1d image arrays to 2d arrays and back to the 1d array:"
   ]
  },
  {
   "cell_type": "code",
   "execution_count": 5,
   "metadata": {
    "execution": {
     "iopub.execute_input": "2023-01-20T16:31:40.177012Z",
     "iopub.status.busy": "2023-01-20T16:31:40.175781Z",
     "iopub.status.idle": "2023-01-20T16:31:40.181118Z",
     "shell.execute_reply": "2023-01-20T16:31:40.180589Z"
    }
   },
   "outputs": [],
   "source": [
    "image_square = geom.image_to_cartesian_representation(image)"
   ]
  },
  {
   "cell_type": "code",
   "execution_count": 6,
   "metadata": {
    "execution": {
     "iopub.execute_input": "2023-01-20T16:31:40.185707Z",
     "iopub.status.busy": "2023-01-20T16:31:40.184575Z",
     "iopub.status.idle": "2023-01-20T16:31:40.192245Z",
     "shell.execute_reply": "2023-01-20T16:31:40.191727Z"
    }
   },
   "outputs": [
    {
     "data": {
      "text/plain": [
       "<matplotlib.image.AxesImage at 0x7efea15bf940>"
      ]
     },
     "execution_count": 6,
     "metadata": {},
     "output_type": "execute_result"
    }
   ],
   "source": [
    "plt.imshow(image_square)"
   ]
  },
  {
   "cell_type": "code",
   "execution_count": 7,
   "metadata": {
    "execution": {
     "iopub.execute_input": "2023-01-20T16:31:40.196503Z",
     "iopub.status.busy": "2023-01-20T16:31:40.195408Z",
     "iopub.status.idle": "2023-01-20T16:31:40.199798Z",
     "shell.execute_reply": "2023-01-20T16:31:40.199291Z"
    }
   },
   "outputs": [],
   "source": [
    "image_1d = geom.image_from_cartesian_representation(image_square)"
   ]
  },
  {
   "cell_type": "code",
   "execution_count": 8,
   "metadata": {
    "execution": {
     "iopub.execute_input": "2023-01-20T16:31:40.204057Z",
     "iopub.status.busy": "2023-01-20T16:31:40.202949Z",
     "iopub.status.idle": "2023-01-20T16:31:40.474029Z",
     "shell.execute_reply": "2023-01-20T16:31:40.473450Z"
    }
   },
   "outputs": [
    {
     "data": {
      "text/plain": [
       "<ctapipe.visualization.mpl_camera.CameraDisplay at 0x7efea15bf670>"
      ]
     },
     "execution_count": 8,
     "metadata": {},
     "output_type": "execute_result"
    }
   ],
   "source": [
    "CameraDisplay(geom, image_1d)"
   ]
  },
  {
   "cell_type": "markdown",
   "metadata": {},
   "source": [
    "## Geometries with hexagonal pixels\n",
    "\n",
    "Define a camera geometry and generate a dummy image:"
   ]
  },
  {
   "cell_type": "code",
   "execution_count": 9,
   "metadata": {
    "execution": {
     "iopub.execute_input": "2023-01-20T16:31:40.478550Z",
     "iopub.status.busy": "2023-01-20T16:31:40.477420Z",
     "iopub.status.idle": "2023-01-20T16:31:40.484538Z",
     "shell.execute_reply": "2023-01-20T16:31:40.484014Z"
    }
   },
   "outputs": [],
   "source": [
    "geom = subarray.tel[1].camera.geometry\n",
    "model = Gaussian(\n",
    "    x=0.5 * u.m,\n",
    "    y=0.5 * u.m,\n",
    "    width=0.1 * u.m,\n",
    "    length=0.2 * u.m,\n",
    "    psi=\"30d\",\n",
    ")\n",
    "_, image, _ = model.generate_image(geom, intensity=5000)"
   ]
  },
  {
   "cell_type": "code",
   "execution_count": 10,
   "metadata": {
    "execution": {
     "iopub.execute_input": "2023-01-20T16:31:40.488758Z",
     "iopub.status.busy": "2023-01-20T16:31:40.487658Z",
     "iopub.status.idle": "2023-01-20T16:31:40.753714Z",
     "shell.execute_reply": "2023-01-20T16:31:40.753132Z"
    }
   },
   "outputs": [
    {
     "data": {
      "text/plain": [
       "<ctapipe.visualization.mpl_camera.CameraDisplay at 0x7efea15c38b0>"
      ]
     },
     "execution_count": 10,
     "metadata": {},
     "output_type": "execute_result"
    }
   ],
   "source": [
    "CameraDisplay(geom, image)"
   ]
  },
  {
   "cell_type": "code",
   "execution_count": 11,
   "metadata": {
    "execution": {
     "iopub.execute_input": "2023-01-20T16:31:40.758248Z",
     "iopub.status.busy": "2023-01-20T16:31:40.757101Z",
     "iopub.status.idle": "2023-01-20T16:31:40.764978Z",
     "shell.execute_reply": "2023-01-20T16:31:40.764447Z"
    }
   },
   "outputs": [],
   "source": [
    "image_square = geom.image_to_cartesian_representation(image)"
   ]
  },
  {
   "cell_type": "markdown",
   "metadata": {},
   "source": [
    "## Conversion into square geometry\n",
    "\n",
    "Since the resulting array has square pixels, the pixel grid has to be rotated and distorted.\n",
    "This is reversible (The `image_from_cartesian_representation` method takes care of this):"
   ]
  },
  {
   "cell_type": "code",
   "execution_count": 12,
   "metadata": {
    "execution": {
     "iopub.execute_input": "2023-01-20T16:31:40.769383Z",
     "iopub.status.busy": "2023-01-20T16:31:40.768246Z",
     "iopub.status.idle": "2023-01-20T16:31:40.775808Z",
     "shell.execute_reply": "2023-01-20T16:31:40.775301Z"
    }
   },
   "outputs": [
    {
     "data": {
      "text/plain": [
       "<matplotlib.image.AxesImage at 0x7efea15c3220>"
      ]
     },
     "execution_count": 12,
     "metadata": {},
     "output_type": "execute_result"
    }
   ],
   "source": [
    "plt.imshow(image_square)"
   ]
  },
  {
   "cell_type": "code",
   "execution_count": 13,
   "metadata": {
    "execution": {
     "iopub.execute_input": "2023-01-20T16:31:40.780047Z",
     "iopub.status.busy": "2023-01-20T16:31:40.778943Z",
     "iopub.status.idle": "2023-01-20T16:31:40.783348Z",
     "shell.execute_reply": "2023-01-20T16:31:40.782840Z"
    }
   },
   "outputs": [],
   "source": [
    "image_1d = geom.image_from_cartesian_representation(image_square)"
   ]
  },
  {
   "cell_type": "code",
   "execution_count": 14,
   "metadata": {
    "execution": {
     "iopub.execute_input": "2023-01-20T16:31:40.787608Z",
     "iopub.status.busy": "2023-01-20T16:31:40.786503Z",
     "iopub.status.idle": "2023-01-20T16:31:41.167628Z",
     "shell.execute_reply": "2023-01-20T16:31:41.166880Z"
    }
   },
   "outputs": [],
   "source": [
    "disp = CameraDisplay(geom, image_1d)"
   ]
  }
 ],
 "metadata": {
  "kernelspec": {
   "display_name": "Python 3 (ipykernel)",
   "language": "python",
   "name": "python3"
  },
  "language_info": {
   "codemirror_mode": {
    "name": "ipython",
    "version": 3
   },
   "file_extension": ".py",
   "mimetype": "text/x-python",
   "name": "python",
   "nbconvert_exporter": "python",
   "pygments_lexer": "ipython3",
   "version": "3.8.16"
  }
 },
 "nbformat": 4,
 "nbformat_minor": 4
}
